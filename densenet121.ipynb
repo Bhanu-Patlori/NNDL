{
 "cells": [
  {
   "cell_type": "code",
   "execution_count": 1,
   "metadata": {
    "_cell_guid": "b1076dfc-b9ad-4769-8c92-a6c4dae69d19",
    "_uuid": "8f2839f25d086af736a60e9eeb907d3b93b6e0e5",
    "execution": {
     "iopub.execute_input": "2024-12-21T00:57:10.621519Z",
     "iopub.status.busy": "2024-12-21T00:57:10.621162Z",
     "iopub.status.idle": "2024-12-21T00:57:15.456431Z",
     "shell.execute_reply": "2024-12-21T00:57:15.455693Z",
     "shell.execute_reply.started": "2024-12-21T00:57:10.621466Z"
    }
   },
   "outputs": [],
   "source": [
    "import os\n",
    "import torch\n",
    "import torch.nn as nn\n",
    "from torchvision import models, transforms\n",
    "from torch.utils.data import DataLoader, random_split \n",
    "from torchvision.datasets import ImageFolder\n",
    "from sklearn.metrics import classification_report\n",
    "from PIL import Image"
   ]
  },
  {
   "cell_type": "code",
   "execution_count": 2,
   "metadata": {
    "execution": {
     "iopub.execute_input": "2024-12-21T00:57:18.828341Z",
     "iopub.status.busy": "2024-12-21T00:57:18.827869Z",
     "iopub.status.idle": "2024-12-21T00:57:18.922592Z",
     "shell.execute_reply": "2024-12-21T00:57:18.921593Z",
     "shell.execute_reply.started": "2024-12-21T00:57:18.828299Z"
    }
   },
   "outputs": [],
   "source": [
    "device = torch.device(\"cuda\" if torch.cuda.is_available() else \"cpu\")"
   ]
  },
  {
   "cell_type": "code",
   "execution_count": 3,
   "metadata": {
    "execution": {
     "iopub.execute_input": "2024-12-21T00:57:21.976966Z",
     "iopub.status.busy": "2024-12-21T00:57:21.976565Z",
     "iopub.status.idle": "2024-12-21T00:57:22.989106Z",
     "shell.execute_reply": "2024-12-21T00:57:22.988011Z",
     "shell.execute_reply.started": "2024-12-21T00:57:21.976934Z"
    }
   },
   "outputs": [
    {
     "name": "stderr",
     "output_type": "stream",
     "text": [
      "Downloading: \"https://download.pytorch.org/models/densenet121-a639ec97.pth\" to /root/.cache/torch/hub/checkpoints/densenet121-a639ec97.pth\n",
      "100%|██████████| 30.8M/30.8M [00:00<00:00, 116MB/s] \n"
     ]
    }
   ],
   "source": [
    "# model:DenseNet-121 \n",
    "model = models.densenet121(weights=\"IMAGENET1K_V1\")  \n",
    "model.classifier = nn.Linear(model.classifier.in_features, 4)  \n",
    "model.to(device);"
   ]
  },
  {
   "cell_type": "code",
   "execution_count": 4,
   "metadata": {
    "execution": {
     "iopub.execute_input": "2024-12-21T00:57:27.940424Z",
     "iopub.status.busy": "2024-12-21T00:57:27.940084Z",
     "iopub.status.idle": "2024-12-21T00:57:27.944123Z",
     "shell.execute_reply": "2024-12-21T00:57:27.943343Z",
     "shell.execute_reply.started": "2024-12-21T00:57:27.940398Z"
    }
   },
   "outputs": [],
   "source": [
    "data_dir = \"/kaggle/input/dataset-cotton/cotton\" \n",
    "classes = ['bacterial_blight', 'curl_virus', 'fussarium_wilt', 'healthy']  "
   ]
  },
  {
   "cell_type": "code",
   "execution_count": 5,
   "metadata": {
    "execution": {
     "iopub.execute_input": "2024-12-21T00:57:30.950496Z",
     "iopub.status.busy": "2024-12-21T00:57:30.950160Z",
     "iopub.status.idle": "2024-12-21T00:57:30.954880Z",
     "shell.execute_reply": "2024-12-21T00:57:30.953955Z",
     "shell.execute_reply.started": "2024-12-21T00:57:30.950471Z"
    }
   },
   "outputs": [],
   "source": [
    "# data transform\n",
    "transform = transforms.Compose([\n",
    "    transforms.Resize((224, 224)),\n",
    "    transforms.ToTensor(),\n",
    "    transforms.Normalize([0.485, 0.456, 0.406], [0.229, 0.224, 0.225])\n",
    "])"
   ]
  },
  {
   "cell_type": "code",
   "execution_count": 6,
   "metadata": {
    "execution": {
     "iopub.execute_input": "2024-12-21T00:57:41.962489Z",
     "iopub.status.busy": "2024-12-21T00:57:41.962165Z",
     "iopub.status.idle": "2024-12-21T00:57:45.319058Z",
     "shell.execute_reply": "2024-12-21T00:57:45.318090Z",
     "shell.execute_reply.started": "2024-12-21T00:57:41.962466Z"
    }
   },
   "outputs": [],
   "source": [
    "dataset = ImageFolder(data_dir, transform=transform)\n",
    "\n",
    "#Split the dataset into training, validation, and test \n",
    "train_ratio = 0.7  \n",
    "val_ratio = 0.2    \n",
    "test_ratio = 0.1   \n",
    "\n",
    "train_size = int(train_ratio * len(dataset))\n",
    "val_size = int(val_ratio * len(dataset))\n",
    "test_size = len(dataset) - train_size - val_size\n",
    "\n",
    "train_dataset, val_dataset, test_dataset = random_split(dataset, [train_size, val_size, test_size])"
   ]
  },
  {
   "cell_type": "code",
   "execution_count": 7,
   "metadata": {
    "execution": {
     "iopub.execute_input": "2024-12-21T00:57:51.546080Z",
     "iopub.status.busy": "2024-12-21T00:57:51.545758Z",
     "iopub.status.idle": "2024-12-21T00:57:51.550401Z",
     "shell.execute_reply": "2024-12-21T00:57:51.549579Z",
     "shell.execute_reply.started": "2024-12-21T00:57:51.546053Z"
    }
   },
   "outputs": [],
   "source": [
    "batch_size = 32\n",
    "train_loader = DataLoader(train_dataset, batch_size=batch_size, shuffle=True)\n",
    "val_loader = DataLoader(val_dataset, batch_size=batch_size, shuffle=False)\n",
    "test_loader = DataLoader(test_dataset, batch_size=batch_size, shuffle=False)"
   ]
  },
  {
   "cell_type": "code",
   "execution_count": 8,
   "metadata": {
    "execution": {
     "iopub.execute_input": "2024-12-21T00:57:58.391893Z",
     "iopub.status.busy": "2024-12-21T00:57:58.391610Z",
     "iopub.status.idle": "2024-12-21T00:57:58.397332Z",
     "shell.execute_reply": "2024-12-21T00:57:58.396547Z",
     "shell.execute_reply.started": "2024-12-21T00:57:58.391872Z"
    }
   },
   "outputs": [],
   "source": [
    "# optimizer and loss func\n",
    "criterion = nn.CrossEntropyLoss()\n",
    "optimizer = torch.optim.Adam(model.parameters(), lr=0.001)"
   ]
  },
  {
   "cell_type": "code",
   "execution_count": 9,
   "metadata": {
    "execution": {
     "iopub.execute_input": "2024-12-21T00:58:02.427399Z",
     "iopub.status.busy": "2024-12-21T00:58:02.427036Z",
     "iopub.status.idle": "2024-12-21T01:01:51.849383Z",
     "shell.execute_reply": "2024-12-21T01:01:51.848627Z",
     "shell.execute_reply.started": "2024-12-21T00:58:02.427372Z"
    }
   },
   "outputs": [
    {
     "name": "stdout",
     "output_type": "stream",
     "text": [
      "Epoch 1/10, Train Loss: 0.3583, Train Acc: 0.8647, Val Loss: 0.1995, Val Acc: 0.9327\n",
      "Epoch 2/10, Train Loss: 0.1828, Train Acc: 0.9365, Val Loss: 0.1332, Val Acc: 0.9444\n",
      "Epoch 3/10, Train Loss: 0.1253, Train Acc: 0.9624, Val Loss: 0.0485, Val Acc: 0.9766\n",
      "Epoch 4/10, Train Loss: 0.0914, Train Acc: 0.9657, Val Loss: 0.1692, Val Acc: 0.9327\n",
      "Epoch 5/10, Train Loss: 0.0515, Train Acc: 0.9825, Val Loss: 0.3524, Val Acc: 0.9240\n",
      "Epoch 6/10, Train Loss: 0.0704, Train Acc: 0.9791, Val Loss: 0.0883, Val Acc: 0.9766\n",
      "Epoch 7/10, Train Loss: 0.0388, Train Acc: 0.9858, Val Loss: 0.0429, Val Acc: 0.9883\n",
      "Epoch 8/10, Train Loss: 0.0711, Train Acc: 0.9799, Val Loss: 0.1722, Val Acc: 0.9561\n",
      "Epoch 9/10, Train Loss: 0.1246, Train Acc: 0.9607, Val Loss: 0.1565, Val Acc: 0.9503\n",
      "Epoch 10/10, Train Loss: 0.0657, Train Acc: 0.9808, Val Loss: 0.1066, Val Acc: 0.9737\n"
     ]
    }
   ],
   "source": [
    "#training\n",
    "def train_model(model, train_loader, val_loader, criterion, optimizer, num_epochs=10):\n",
    "    for epoch in range(num_epochs):\n",
    "        model.train()\n",
    "        running_loss = 0.0\n",
    "        correct = 0\n",
    "        total = 0\n",
    "\n",
    "        for images, labels in train_loader:\n",
    "            images, labels = images.to(device), labels.to(device)\n",
    "\n",
    "            # Forward pass\n",
    "            outputs = model(images)\n",
    "            loss = criterion(outputs, labels)\n",
    "\n",
    "            # Backward pass and optimization\n",
    "            optimizer.zero_grad()\n",
    "            loss.backward()\n",
    "            optimizer.step()\n",
    "\n",
    "            running_loss += loss.item()\n",
    "            _, preds = torch.max(outputs, 1)\n",
    "            correct += (preds == labels).sum().item()\n",
    "            total += labels.size(0)\n",
    "\n",
    "        train_acc = correct / total\n",
    "\n",
    "        # Validation \n",
    "        model.eval()\n",
    "        val_loss = 0.0\n",
    "        val_correct = 0\n",
    "        val_total = 0\n",
    "\n",
    "        with torch.no_grad():\n",
    "            for images, labels in val_loader:\n",
    "                images, labels = images.to(device), labels.to(device)\n",
    "\n",
    "                outputs = model(images)\n",
    "                loss = criterion(outputs, labels)\n",
    "                val_loss += loss.item()\n",
    "\n",
    "                _, preds = torch.max(outputs, 1)\n",
    "                val_correct += (preds == labels).sum().item()\n",
    "                val_total += labels.size(0)\n",
    "\n",
    "        val_acc = val_correct / val_total\n",
    "\n",
    "        print(f\"Epoch {epoch+1}/{num_epochs}, \"\n",
    "              f\"Train Loss: {running_loss/len(train_loader):.4f}, Train Acc: {train_acc:.4f}, \"\n",
    "              f\"Val Loss: {val_loss/len(val_loader):.4f}, Val Acc: {val_acc:.4f}\")\n",
    "\n",
    "train_model(model, train_loader, val_loader, criterion, optimizer, num_epochs=10)"
   ]
  },
  {
   "cell_type": "code",
   "execution_count": 10,
   "metadata": {
    "execution": {
     "iopub.execute_input": "2024-12-21T01:01:57.255846Z",
     "iopub.status.busy": "2024-12-21T01:01:57.255466Z",
     "iopub.status.idle": "2024-12-21T01:02:02.504499Z",
     "shell.execute_reply": "2024-12-21T01:02:02.503509Z",
     "shell.execute_reply.started": "2024-12-21T01:01:57.255808Z"
    }
   },
   "outputs": [
    {
     "name": "stdout",
     "output_type": "stream",
     "text": [
      "Evaluation on Validation Set:\n",
      "                  precision    recall  f1-score   support\n",
      "\n",
      "bacterial_blight       0.99      0.98      0.98        91\n",
      "      curl_virus       0.98      0.97      0.97        88\n",
      "  fussarium_wilt       0.98      0.98      0.98        84\n",
      "         healthy       0.95      0.97      0.96        79\n",
      "\n",
      "        accuracy                           0.97       342\n",
      "       macro avg       0.97      0.97      0.97       342\n",
      "    weighted avg       0.97      0.97      0.97       342\n",
      "\n",
      "Evaluation on Test Set:\n",
      "                  precision    recall  f1-score   support\n",
      "\n",
      "bacterial_blight       1.00      0.96      0.98        52\n",
      "      curl_virus       1.00      0.91      0.95        45\n",
      "  fussarium_wilt       0.92      0.97      0.94        34\n",
      "         healthy       0.91      1.00      0.95        40\n",
      "\n",
      "        accuracy                           0.96       171\n",
      "       macro avg       0.96      0.96      0.96       171\n",
      "    weighted avg       0.96      0.96      0.96       171\n",
      "\n"
     ]
    }
   ],
   "source": [
    "#Evaluating the model on valid and test data\n",
    "def evaluate_model(model, loader, dataset_type):\n",
    "    model.eval()\n",
    "    all_labels = []\n",
    "    all_preds = []\n",
    "\n",
    "    with torch.no_grad():\n",
    "        for images, labels in loader:\n",
    "            images, labels = images.to(device), labels.to(device)\n",
    "\n",
    "            outputs = model(images)\n",
    "            _, preds = torch.max(outputs, 1)\n",
    "\n",
    "            all_labels.extend(labels.cpu().numpy())\n",
    "            all_preds.extend(preds.cpu().numpy())\n",
    "\n",
    "    print(f\"Evaluation on {dataset_type} Set:\")\n",
    "    print(classification_report(all_labels, all_preds, target_names=classes))\n",
    "\n",
    "evaluate_model(model, val_loader, \"Validation\")\n",
    "evaluate_model(model, test_loader, \"Test\")"
   ]
  },
  {
   "cell_type": "code",
   "execution_count": 11,
   "metadata": {
    "execution": {
     "iopub.execute_input": "2024-12-21T01:02:17.379828Z",
     "iopub.status.busy": "2024-12-21T01:02:17.379543Z",
     "iopub.status.idle": "2024-12-21T01:02:17.476840Z",
     "shell.execute_reply": "2024-12-21T01:02:17.476055Z",
     "shell.execute_reply.started": "2024-12-21T01:02:17.379807Z"
    }
   },
   "outputs": [
    {
     "name": "stdout",
     "output_type": "stream",
     "text": [
      "Model saved successfully!\n"
     ]
    }
   ],
   "source": [
    "#to save the model\n",
    "torch.save(model.state_dict(), \"densenet121_model.pth\")\n",
    "print(\"Model saved successfully!\")"
   ]
  },
  {
   "cell_type": "markdown",
   "metadata": {},
   "source": [
    "# Link for pth file: https://drive.google.com/file/d/13IDt6BdCcqs6B7IxpOWuoW6I3KmDl_0E/view?usp=sharing"
   ]
  }
 ],
 "metadata": {
  "kaggle": {
   "accelerator": "nvidiaTeslaT4",
   "dataSources": [
    {
     "datasetId": 6338428,
     "sourceId": 10248143,
     "sourceType": "datasetVersion"
    }
   ],
   "dockerImageVersionId": 30823,
   "isGpuEnabled": true,
   "isInternetEnabled": true,
   "language": "python",
   "sourceType": "notebook"
  },
  "kernelspec": {
   "display_name": "Python 3 (ipykernel)",
   "language": "python",
   "name": "python3"
  },
  "language_info": {
   "codemirror_mode": {
    "name": "ipython",
    "version": 3
   },
   "file_extension": ".py",
   "mimetype": "text/x-python",
   "name": "python",
   "nbconvert_exporter": "python",
   "pygments_lexer": "ipython3",
   "version": "3.8.19"
  }
 },
 "nbformat": 4,
 "nbformat_minor": 4
}
