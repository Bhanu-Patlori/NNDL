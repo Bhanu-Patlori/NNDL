{
 "cells": [
  {
   "cell_type": "code",
   "execution_count": 1,
   "metadata": {
    "_cell_guid": "b1076dfc-b9ad-4769-8c92-a6c4dae69d19",
    "_uuid": "8f2839f25d086af736a60e9eeb907d3b93b6e0e5",
    "execution": {
     "iopub.execute_input": "2024-12-20T15:57:41.007255Z",
     "iopub.status.busy": "2024-12-20T15:57:41.006945Z",
     "iopub.status.idle": "2024-12-20T15:57:45.276990Z",
     "shell.execute_reply": "2024-12-20T15:57:45.276330Z",
     "shell.execute_reply.started": "2024-12-20T15:57:41.007226Z"
    }
   },
   "outputs": [],
   "source": [
    "import os\n",
    "import torch\n",
    "import torch.nn as nn\n",
    "import torch.optim as optim\n",
    "from torchvision import datasets, transforms, models\n",
    "from torch.utils.data import DataLoader\n",
    "from sklearn.metrics import classification_report\n",
    "from torch.utils.data import DataLoader, random_split\n",
    "from torchvision.models import ResNet18_Weights"
   ]
  },
  {
   "cell_type": "code",
   "execution_count": 2,
   "metadata": {
    "execution": {
     "iopub.execute_input": "2024-12-20T15:57:49.645452Z",
     "iopub.status.busy": "2024-12-20T15:57:49.645186Z",
     "iopub.status.idle": "2024-12-20T15:57:49.712398Z",
     "shell.execute_reply": "2024-12-20T15:57:49.711408Z",
     "shell.execute_reply.started": "2024-12-20T15:57:49.645430Z"
    }
   },
   "outputs": [],
   "source": [
    "device = torch.device(\"cuda\" if torch.cuda.is_available() else \"cpu\")"
   ]
  },
  {
   "cell_type": "code",
   "execution_count": 3,
   "metadata": {
    "execution": {
     "iopub.execute_input": "2024-12-20T15:57:57.541449Z",
     "iopub.status.busy": "2024-12-20T15:57:57.541145Z",
     "iopub.status.idle": "2024-12-20T15:57:57.546776Z",
     "shell.execute_reply": "2024-12-20T15:57:57.545694Z",
     "shell.execute_reply.started": "2024-12-20T15:57:57.541423Z"
    }
   },
   "outputs": [],
   "source": [
    " #data tranforms\n",
    "transformations = {\n",
    "    \"train\": transforms.Compose([\n",
    "        transforms.Resize((224, 224)),\n",
    "        transforms.RandomHorizontalFlip(),\n",
    "        transforms.RandomRotation(10),\n",
    "        transforms.ToTensor(),\n",
    "        transforms.Normalize([0.485, 0.456, 0.406], [0.229, 0.224, 0.225])\n",
    "    ]),\n",
    "    \"val_test\": transforms.Compose([\n",
    "        transforms.Resize((224, 224)),\n",
    "        transforms.ToTensor(),\n",
    "        transforms.Normalize([0.485, 0.456, 0.406], [0.229, 0.224, 0.225])\n",
    "    ])\n",
    "}"
   ]
  },
  {
   "cell_type": "code",
   "execution_count": 4,
   "metadata": {
    "execution": {
     "iopub.execute_input": "2024-12-20T15:58:04.814386Z",
     "iopub.status.busy": "2024-12-20T15:58:04.814085Z",
     "iopub.status.idle": "2024-12-20T15:58:08.201152Z",
     "shell.execute_reply": "2024-12-20T15:58:08.200445Z",
     "shell.execute_reply.started": "2024-12-20T15:58:04.814360Z"
    }
   },
   "outputs": [],
   "source": [
    "data_dir = \"/kaggle/input/cotton-dataset/cotton\" \n",
    "dataset = datasets.ImageFolder(data_dir, transform=transformations[\"train\"])\n",
    "\n",
    "#splitting the dataset into train,valid,test\n",
    "train_ratio = 0.7\n",
    "val_ratio = 0.2\n",
    "test_ratio = 0.1\n",
    "\n",
    "train_size = int(train_ratio * len(dataset))\n",
    "val_size = int(val_ratio * len(dataset))\n",
    "test_size = len(dataset) - train_size - val_size\n",
    "\n",
    "train_dataset, val_dataset, test_dataset = random_split(dataset, [train_size, val_size, test_size])\n",
    "\n",
    "train_dataset.dataset.transform = transformations[\"train\"]  \n",
    "val_dataset.dataset.transform = transformations[\"val_test\"]\n",
    "test_dataset.dataset.transform = transformations[\"val_test\"]"
   ]
  },
  {
   "cell_type": "code",
   "execution_count": 5,
   "metadata": {
    "execution": {
     "iopub.execute_input": "2024-12-20T15:58:12.894901Z",
     "iopub.status.busy": "2024-12-20T15:58:12.894613Z",
     "iopub.status.idle": "2024-12-20T15:58:12.899071Z",
     "shell.execute_reply": "2024-12-20T15:58:12.898151Z",
     "shell.execute_reply.started": "2024-12-20T15:58:12.894879Z"
    }
   },
   "outputs": [],
   "source": [
    "batch_size = 32\n",
    "train_loader = DataLoader(train_dataset, batch_size=batch_size, shuffle=True)\n",
    "val_loader = DataLoader(val_dataset, batch_size=batch_size, shuffle=False)\n",
    "test_loader = DataLoader(test_dataset, batch_size=batch_size, shuffle=False)"
   ]
  },
  {
   "cell_type": "code",
   "execution_count": 6,
   "metadata": {
    "execution": {
     "iopub.execute_input": "2024-12-20T15:58:16.415611Z",
     "iopub.status.busy": "2024-12-20T15:58:16.415302Z",
     "iopub.status.idle": "2024-12-20T15:58:17.288223Z",
     "shell.execute_reply": "2024-12-20T15:58:17.287555Z",
     "shell.execute_reply.started": "2024-12-20T15:58:16.415585Z"
    }
   },
   "outputs": [
    {
     "name": "stderr",
     "output_type": "stream",
     "text": [
      "Downloading: \"https://download.pytorch.org/models/resnet18-f37072fd.pth\" to /root/.cache/torch/hub/checkpoints/resnet18-f37072fd.pth\n",
      "100%|██████████| 44.7M/44.7M [00:00<00:00, 168MB/s] \n"
     ]
    }
   ],
   "source": [
    "#model: Resnet18\n",
    "model = models.resnet18(weights=ResNet18_Weights.IMAGENET1K_V1)\n",
    "for param in model.parameters():\n",
    "    param.requires_grad = False\n",
    "num_features = model.fc.in_features\n",
    "model.fc = nn.Linear(num_features, len(dataset.classes))  \n",
    "model = model.to(device)"
   ]
  },
  {
   "cell_type": "code",
   "execution_count": 7,
   "metadata": {
    "execution": {
     "iopub.execute_input": "2024-12-20T15:58:22.492653Z",
     "iopub.status.busy": "2024-12-20T15:58:22.492324Z",
     "iopub.status.idle": "2024-12-20T15:58:22.496594Z",
     "shell.execute_reply": "2024-12-20T15:58:22.495743Z",
     "shell.execute_reply.started": "2024-12-20T15:58:22.492625Z"
    }
   },
   "outputs": [],
   "source": [
    "# optimizer and loss func\n",
    "criterion = nn.CrossEntropyLoss()\n",
    "optimizer = optim.Adam(model.fc.parameters(), lr=0.001)"
   ]
  },
  {
   "cell_type": "code",
   "execution_count": 8,
   "metadata": {
    "execution": {
     "iopub.execute_input": "2024-12-20T15:58:28.156356Z",
     "iopub.status.busy": "2024-12-20T15:58:28.156049Z",
     "iopub.status.idle": "2024-12-20T16:00:21.844902Z",
     "shell.execute_reply": "2024-12-20T16:00:21.844155Z",
     "shell.execute_reply.started": "2024-12-20T15:58:28.156326Z"
    }
   },
   "outputs": [
    {
     "name": "stdout",
     "output_type": "stream",
     "text": [
      "Epoch 1/10, Train Loss: 0.9320, Train Acc: 0.6867, Val Loss: 0.5324, Val Acc: 0.8889\n",
      "Epoch 2/10, Train Loss: 0.4828, Train Acc: 0.8931, Val Loss: 0.3448, Val Acc: 0.9240\n",
      "Epoch 3/10, Train Loss: 0.3374, Train Acc: 0.9240, Val Loss: 0.2726, Val Acc: 0.9444\n",
      "Epoch 4/10, Train Loss: 0.2844, Train Acc: 0.9373, Val Loss: 0.2324, Val Acc: 0.9415\n",
      "Epoch 5/10, Train Loss: 0.2431, Train Acc: 0.9432, Val Loss: 0.1940, Val Acc: 0.9591\n",
      "Epoch 6/10, Train Loss: 0.2211, Train Acc: 0.9532, Val Loss: 0.1792, Val Acc: 0.9678\n",
      "Epoch 7/10, Train Loss: 0.1903, Train Acc: 0.9566, Val Loss: 0.1593, Val Acc: 0.9678\n",
      "Epoch 8/10, Train Loss: 0.1611, Train Acc: 0.9741, Val Loss: 0.1440, Val Acc: 0.9766\n",
      "Epoch 9/10, Train Loss: 0.1525, Train Acc: 0.9749, Val Loss: 0.1458, Val Acc: 0.9678\n",
      "Epoch 10/10, Train Loss: 0.1685, Train Acc: 0.9683, Val Loss: 0.1151, Val Acc: 0.9766\n"
     ]
    }
   ],
   "source": [
    "#training\n",
    "def train_model(model, train_loader, val_loader, criterion, optimizer, num_epochs=10):\n",
    "    for epoch in range(num_epochs):\n",
    "        model.train()\n",
    "        running_loss = 0.0\n",
    "        correct = 0\n",
    "        total = 0\n",
    "\n",
    "        for images, labels in train_loader:\n",
    "            images, labels = images.to(device), labels.to(device)\n",
    "\n",
    "            # Forward pass\n",
    "            outputs = model(images)\n",
    "            loss = criterion(outputs, labels)\n",
    "\n",
    "            # Backward pass and optimization\n",
    "            optimizer.zero_grad()\n",
    "            loss.backward()\n",
    "            optimizer.step()\n",
    "\n",
    "            running_loss += loss.item()\n",
    "            _, preds = torch.max(outputs, 1)\n",
    "            correct += (preds == labels).sum().item()\n",
    "            total += labels.size(0)\n",
    "\n",
    "        train_acc = correct / total\n",
    "\n",
    "        # Validation \n",
    "        model.eval()\n",
    "        val_loss = 0.0\n",
    "        val_correct = 0\n",
    "        val_total = 0\n",
    "\n",
    "        with torch.no_grad():\n",
    "            for images, labels in val_loader:\n",
    "                images, labels = images.to(device), labels.to(device)\n",
    "\n",
    "                outputs = model(images)\n",
    "                loss = criterion(outputs, labels)\n",
    "                val_loss += loss.item()\n",
    "\n",
    "                _, preds = torch.max(outputs, 1)\n",
    "                val_correct += (preds == labels).sum().item()\n",
    "                val_total += labels.size(0)\n",
    "\n",
    "        val_acc = val_correct / val_total\n",
    "\n",
    "        print(f\"Epoch {epoch+1}/{num_epochs}, \"\n",
    "              f\"Train Loss: {running_loss/len(train_loader):.4f}, Train Acc: {train_acc:.4f}, \"\n",
    "              f\"Val Loss: {val_loss/len(val_loader):.4f}, Val Acc: {val_acc:.4f}\")\n",
    "\n",
    "\n",
    "train_model(model, train_loader, val_loader, criterion, optimizer, num_epochs=10)"
   ]
  },
  {
   "cell_type": "code",
   "execution_count": 9,
   "metadata": {
    "execution": {
     "iopub.execute_input": "2024-12-20T16:00:31.872035Z",
     "iopub.status.busy": "2024-12-20T16:00:31.871720Z",
     "iopub.status.idle": "2024-12-20T16:00:36.403508Z",
     "shell.execute_reply": "2024-12-20T16:00:36.402712Z",
     "shell.execute_reply.started": "2024-12-20T16:00:31.872010Z"
    }
   },
   "outputs": [
    {
     "name": "stdout",
     "output_type": "stream",
     "text": [
      "Evaluation on Validation Set:\n",
      "                  precision    recall  f1-score   support\n",
      "\n",
      "bacterial_blight       1.00      0.98      0.99        98\n",
      "      curl_virus       0.98      0.96      0.97        82\n",
      "  fussarium_wilt       0.98      0.99      0.98        81\n",
      "         healthy       0.95      0.98      0.96        81\n",
      "\n",
      "        accuracy                           0.98       342\n",
      "       macro avg       0.98      0.98      0.98       342\n",
      "    weighted avg       0.98      0.98      0.98       342\n",
      "\n",
      "Evaluation on Test Set:\n",
      "                  precision    recall  f1-score   support\n",
      "\n",
      "bacterial_blight       0.94      0.96      0.95        50\n",
      "      curl_virus       0.97      1.00      0.99        33\n",
      "  fussarium_wilt       1.00      0.92      0.96        38\n",
      "         healthy       0.94      0.96      0.95        50\n",
      "\n",
      "        accuracy                           0.96       171\n",
      "       macro avg       0.96      0.96      0.96       171\n",
      "    weighted avg       0.96      0.96      0.96       171\n",
      "\n"
     ]
    }
   ],
   "source": [
    "#For evaluating the model\n",
    "def evaluate_model(model, loader, dataset_type):\n",
    "    model.eval()\n",
    "    all_labels = []\n",
    "    all_preds = []\n",
    "\n",
    "    with torch.no_grad():\n",
    "        for images, labels in loader:\n",
    "            images, labels = images.to(device), labels.to(device)\n",
    "\n",
    "            outputs = model(images)\n",
    "            _, preds = torch.max(outputs, 1)\n",
    "\n",
    "            all_labels.extend(labels.cpu().numpy())\n",
    "            all_preds.extend(preds.cpu().numpy())\n",
    "    print(f\"Evaluation on {dataset_type} Set:\")\n",
    "    print(classification_report(all_labels, all_preds, target_names=dataset.classes))\n",
    "\n",
    "\n",
    "evaluate_model(model, val_loader, \"Validation\")\n",
    "evaluate_model(model, test_loader, \"Test\")"
   ]
  },
  {
   "cell_type": "code",
   "execution_count": 10,
   "metadata": {
    "execution": {
     "iopub.execute_input": "2024-12-20T16:00:42.805091Z",
     "iopub.status.busy": "2024-12-20T16:00:42.804816Z",
     "iopub.status.idle": "2024-12-20T16:00:42.873159Z",
     "shell.execute_reply": "2024-12-20T16:00:42.872450Z",
     "shell.execute_reply.started": "2024-12-20T16:00:42.805069Z"
    }
   },
   "outputs": [
    {
     "name": "stdout",
     "output_type": "stream",
     "text": [
      "Model saved successfully!\n"
     ]
    }
   ],
   "source": [
    "torch.save(model.state_dict(), \"resnet_model_18.pth\")\n",
    "print(\"Model saved successfully!\")"
   ]
  },
  {
   "cell_type": "code",
   "execution_count": null,
   "metadata": {},
   "outputs": [],
   "source": [
    "Link to pth file: https://drive.google.com/file/d/1xxoZhQyz3-PaAq2QCL0y2_Cnm5qPRBwF/view?usp=sharing"
   ]
  }
 ],
 "metadata": {
  "kaggle": {
   "accelerator": "none",
   "dataSources": [
    {
     "datasetId": 6333779,
     "sourceId": 10241841,
     "sourceType": "datasetVersion"
    }
   ],
   "dockerImageVersionId": 30823,
   "isGpuEnabled": false,
   "isInternetEnabled": true,
   "language": "python",
   "sourceType": "notebook"
  },
  "kernelspec": {
   "display_name": "Python 3 (ipykernel)",
   "language": "python",
   "name": "python3"
  },
  "language_info": {
   "codemirror_mode": {
    "name": "ipython",
    "version": 3
   },
   "file_extension": ".py",
   "mimetype": "text/x-python",
   "name": "python",
   "nbconvert_exporter": "python",
   "pygments_lexer": "ipython3",
   "version": "3.8.19"
  }
 },
 "nbformat": 4,
 "nbformat_minor": 4
}
