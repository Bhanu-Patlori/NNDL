{
 "cells": [
  {
   "cell_type": "code",
   "execution_count": 1,
   "metadata": {
    "_cell_guid": "b1076dfc-b9ad-4769-8c92-a6c4dae69d19",
    "_uuid": "8f2839f25d086af736a60e9eeb907d3b93b6e0e5",
    "execution": {
     "iopub.execute_input": "2024-12-21T00:49:03.787942Z",
     "iopub.status.busy": "2024-12-21T00:49:03.787748Z",
     "iopub.status.idle": "2024-12-21T00:49:08.280775Z",
     "shell.execute_reply": "2024-12-21T00:49:08.279864Z",
     "shell.execute_reply.started": "2024-12-21T00:49:03.787915Z"
    }
   },
   "outputs": [],
   "source": [
    "import os\n",
    "import torch\n",
    "import torch.nn as nn\n",
    "from torchvision import models, transforms\n",
    "from torch.utils.data import DataLoader, random_split\n",
    "from torchvision.datasets import ImageFolder\n",
    "from sklearn.metrics import classification_report\n",
    "from sklearn.metrics import confusion_matrix, ConfusionMatrixDisplay\n",
    "import matplotlib.pyplot as plt"
   ]
  },
  {
   "cell_type": "code",
   "execution_count": 2,
   "metadata": {
    "execution": {
     "iopub.execute_input": "2024-12-21T00:49:44.767226Z",
     "iopub.status.busy": "2024-12-21T00:49:44.766885Z",
     "iopub.status.idle": "2024-12-21T00:49:44.845058Z",
     "shell.execute_reply": "2024-12-21T00:49:44.844056Z",
     "shell.execute_reply.started": "2024-12-21T00:49:44.767199Z"
    }
   },
   "outputs": [],
   "source": [
    "device = torch.device(\"cuda\" if torch.cuda.is_available() else \"cpu\")"
   ]
  },
  {
   "cell_type": "code",
   "execution_count": 3,
   "metadata": {
    "execution": {
     "iopub.execute_input": "2024-12-21T00:49:50.578683Z",
     "iopub.status.busy": "2024-12-21T00:49:50.578361Z",
     "iopub.status.idle": "2024-12-21T00:49:51.121177Z",
     "shell.execute_reply": "2024-12-21T00:49:51.120268Z",
     "shell.execute_reply.started": "2024-12-21T00:49:50.578656Z"
    }
   },
   "outputs": [
    {
     "name": "stderr",
     "output_type": "stream",
     "text": [
      "Downloading: \"https://download.pytorch.org/models/mobilenet_v3_small-047dcff4.pth\" to /root/.cache/torch/hub/checkpoints/mobilenet_v3_small-047dcff4.pth\n",
      "100%|██████████| 9.83M/9.83M [00:00<00:00, 95.0MB/s]\n"
     ]
    }
   ],
   "source": [
    "#model: MobileNet v3 Small\n",
    "model = models.mobilenet_v3_small(weights=\"IMAGENET1K_V1\")  \n",
    "model.classifier[3] = nn.Linear(model.classifier[3].in_features, 4)  \n",
    "model.to(device);"
   ]
  },
  {
   "cell_type": "code",
   "execution_count": 4,
   "metadata": {
    "execution": {
     "iopub.execute_input": "2024-12-21T00:49:55.045918Z",
     "iopub.status.busy": "2024-12-21T00:49:55.045636Z",
     "iopub.status.idle": "2024-12-21T00:49:55.049591Z",
     "shell.execute_reply": "2024-12-21T00:49:55.048811Z",
     "shell.execute_reply.started": "2024-12-21T00:49:55.045898Z"
    }
   },
   "outputs": [],
   "source": [
    "data_dir = \"/kaggle/input/ctn-dataset/cotton\"  \n",
    "classes = ['bacterial_blight', 'curl_virus', 'fussarium_wilt', 'healthy'] "
   ]
  },
  {
   "cell_type": "code",
   "execution_count": 5,
   "metadata": {
    "execution": {
     "iopub.execute_input": "2024-12-21T00:50:00.591080Z",
     "iopub.status.busy": "2024-12-21T00:50:00.590651Z",
     "iopub.status.idle": "2024-12-21T00:50:00.595970Z",
     "shell.execute_reply": "2024-12-21T00:50:00.594916Z",
     "shell.execute_reply.started": "2024-12-21T00:50:00.591047Z"
    }
   },
   "outputs": [],
   "source": [
    "# data transforms\n",
    "transform = transforms.Compose([\n",
    "    transforms.Resize((224, 224)),\n",
    "    transforms.ToTensor(),\n",
    "    transforms.Normalize([0.485, 0.456, 0.406], [0.229, 0.224, 0.225])\n",
    "])"
   ]
  },
  {
   "cell_type": "code",
   "execution_count": 6,
   "metadata": {
    "execution": {
     "iopub.execute_input": "2024-12-21T00:50:07.370554Z",
     "iopub.status.busy": "2024-12-21T00:50:07.370272Z",
     "iopub.status.idle": "2024-12-21T00:50:08.627123Z",
     "shell.execute_reply": "2024-12-21T00:50:08.626204Z",
     "shell.execute_reply.started": "2024-12-21T00:50:07.370531Z"
    }
   },
   "outputs": [],
   "source": [
    "dataset = ImageFolder(data_dir, transform=transform)\n",
    "\n",
    "# Split the dataset into training, validation, and test \n",
    "train_ratio = 0.7  \n",
    "val_ratio = 0.2   \n",
    "test_ratio = 0.1   \n",
    "\n",
    "train_size = int(train_ratio * len(dataset))\n",
    "val_size = int(val_ratio * len(dataset))\n",
    "test_size = len(dataset) - train_size - val_size\n",
    "\n",
    "train_dataset, val_dataset, test_dataset = random_split(dataset, [train_size, val_size, test_size])"
   ]
  },
  {
   "cell_type": "code",
   "execution_count": 7,
   "metadata": {
    "execution": {
     "iopub.execute_input": "2024-12-21T00:50:14.380442Z",
     "iopub.status.busy": "2024-12-21T00:50:14.380164Z",
     "iopub.status.idle": "2024-12-21T00:50:14.384571Z",
     "shell.execute_reply": "2024-12-21T00:50:14.383669Z",
     "shell.execute_reply.started": "2024-12-21T00:50:14.380422Z"
    }
   },
   "outputs": [],
   "source": [
    "batch_size = 32\n",
    "train_loader = DataLoader(train_dataset, batch_size=batch_size, shuffle=True)\n",
    "val_loader = DataLoader(val_dataset, batch_size=batch_size, shuffle=False)\n",
    "test_loader = DataLoader(test_dataset, batch_size=batch_size, shuffle=False)"
   ]
  },
  {
   "cell_type": "code",
   "execution_count": 8,
   "metadata": {
    "execution": {
     "iopub.execute_input": "2024-12-21T00:50:20.012448Z",
     "iopub.status.busy": "2024-12-21T00:50:20.012142Z",
     "iopub.status.idle": "2024-12-21T00:50:20.017558Z",
     "shell.execute_reply": "2024-12-21T00:50:20.016416Z",
     "shell.execute_reply.started": "2024-12-21T00:50:20.012424Z"
    }
   },
   "outputs": [],
   "source": [
    "#loss function and optimizer\n",
    "criterion = nn.CrossEntropyLoss()\n",
    "optimizer = torch.optim.Adam(model.parameters(), lr=0.001)"
   ]
  },
  {
   "cell_type": "code",
   "execution_count": 9,
   "metadata": {
    "execution": {
     "iopub.execute_input": "2024-12-21T00:50:26.201273Z",
     "iopub.status.busy": "2024-12-21T00:50:26.200962Z",
     "iopub.status.idle": "2024-12-21T00:52:21.564766Z",
     "shell.execute_reply": "2024-12-21T00:52:21.563906Z",
     "shell.execute_reply.started": "2024-12-21T00:50:26.201252Z"
    }
   },
   "outputs": [
    {
     "name": "stdout",
     "output_type": "stream",
     "text": [
      "Epoch 1/10, Train Loss: 0.3402, Train Acc: 0.8872, Val Loss: 0.2737, Val Acc: 0.9269\n",
      "Epoch 2/10, Train Loss: 0.0620, Train Acc: 0.9858, Val Loss: 0.0820, Val Acc: 0.9766\n",
      "Epoch 3/10, Train Loss: 0.0907, Train Acc: 0.9758, Val Loss: 0.2094, Val Acc: 0.9298\n",
      "Epoch 4/10, Train Loss: 0.0785, Train Acc: 0.9741, Val Loss: 0.2278, Val Acc: 0.9357\n",
      "Epoch 5/10, Train Loss: 0.0285, Train Acc: 0.9933, Val Loss: 0.0188, Val Acc: 0.9971\n",
      "Epoch 6/10, Train Loss: 0.0113, Train Acc: 0.9975, Val Loss: 0.0559, Val Acc: 0.9912\n",
      "Epoch 7/10, Train Loss: 0.0140, Train Acc: 0.9950, Val Loss: 0.0792, Val Acc: 0.9708\n",
      "Epoch 8/10, Train Loss: 0.0114, Train Acc: 0.9967, Val Loss: 0.0207, Val Acc: 0.9883\n",
      "Epoch 9/10, Train Loss: 0.0234, Train Acc: 0.9916, Val Loss: 0.2551, Val Acc: 0.9386\n",
      "Epoch 10/10, Train Loss: 0.0183, Train Acc: 0.9933, Val Loss: 0.1188, Val Acc: 0.9649\n"
     ]
    }
   ],
   "source": [
    "#training \n",
    "def train_model(model, train_loader, val_loader, criterion, optimizer, num_epochs=10):\n",
    "    for epoch in range(num_epochs):\n",
    "        model.train()\n",
    "        running_loss = 0.0\n",
    "        correct = 0\n",
    "        total = 0\n",
    "\n",
    "        for images, labels in train_loader:\n",
    "            images, labels = images.to(device), labels.to(device)\n",
    "            outputs = model(images)\n",
    "            loss = criterion(outputs, labels)\n",
    "\n",
    "            optimizer.zero_grad()\n",
    "            loss.backward()\n",
    "            optimizer.step()\n",
    "\n",
    "            running_loss += loss.item()\n",
    "            _, preds = torch.max(outputs, 1)\n",
    "            correct += (preds == labels).sum().item()\n",
    "            total += labels.size(0)\n",
    "\n",
    "        train_acc = correct / total\n",
    "\n",
    "        # Validation \n",
    "        model.eval()\n",
    "        val_loss = 0.0\n",
    "        val_correct = 0\n",
    "        val_total = 0\n",
    "\n",
    "        with torch.no_grad():\n",
    "            for images, labels in val_loader:\n",
    "                images, labels = images.to(device), labels.to(device)\n",
    "\n",
    "                outputs = model(images)\n",
    "                loss = criterion(outputs, labels)\n",
    "                val_loss += loss.item()\n",
    "\n",
    "                _, preds = torch.max(outputs, 1)\n",
    "                val_correct += (preds == labels).sum().item()\n",
    "                val_total += labels.size(0)\n",
    "\n",
    "        val_acc = val_correct / val_total\n",
    "\n",
    "        print(f\"Epoch {epoch+1}/{num_epochs}, \"\n",
    "              f\"Train Loss: {running_loss/len(train_loader):.4f}, Train Acc: {train_acc:.4f}, \"\n",
    "              f\"Val Loss: {val_loss/len(val_loader):.4f}, Val Acc: {val_acc:.4f}\")\n",
    "\n",
    "train_model(model, train_loader, val_loader, criterion, optimizer, num_epochs=10)"
   ]
  },
  {
   "cell_type": "code",
   "execution_count": 10,
   "metadata": {
    "execution": {
     "iopub.execute_input": "2024-12-21T00:52:26.329189Z",
     "iopub.status.busy": "2024-12-21T00:52:26.328845Z",
     "iopub.status.idle": "2024-12-21T00:52:29.541261Z",
     "shell.execute_reply": "2024-12-21T00:52:29.540289Z",
     "shell.execute_reply.started": "2024-12-21T00:52:26.329162Z"
    }
   },
   "outputs": [
    {
     "name": "stdout",
     "output_type": "stream",
     "text": [
      "Evaluation on Validation Set:\n",
      "                  precision    recall  f1-score   support\n",
      "\n",
      "bacterial_blight       0.89      1.00      0.94        88\n",
      "      curl_virus       1.00      0.94      0.97        78\n",
      "  fussarium_wilt       0.99      1.00      0.99        97\n",
      "         healthy       1.00      0.91      0.95        79\n",
      "\n",
      "        accuracy                           0.96       342\n",
      "       macro avg       0.97      0.96      0.96       342\n",
      "    weighted avg       0.97      0.96      0.97       342\n",
      "\n",
      "Evaluation on Test Set:\n",
      "                  precision    recall  f1-score   support\n",
      "\n",
      "bacterial_blight       0.96      1.00      0.98        43\n",
      "      curl_virus       1.00      0.98      0.99        45\n",
      "  fussarium_wilt       0.98      1.00      0.99        41\n",
      "         healthy       1.00      0.95      0.98        42\n",
      "\n",
      "        accuracy                           0.98       171\n",
      "       macro avg       0.98      0.98      0.98       171\n",
      "    weighted avg       0.98      0.98      0.98       171\n",
      "\n"
     ]
    }
   ],
   "source": [
    "#evaluating the model\n",
    "def evaluate_model(model, loader, dataset_type):\n",
    "    model.eval()\n",
    "    all_labels = []\n",
    "    all_preds = []\n",
    "\n",
    "    with torch.no_grad():\n",
    "        for images, labels in loader:\n",
    "            images, labels = images.to(device), labels.to(device)\n",
    "\n",
    "            outputs = model(images)\n",
    "            _, preds = torch.max(outputs, 1)\n",
    "\n",
    "            all_labels.extend(labels.cpu().numpy())\n",
    "            all_preds.extend(preds.cpu().numpy())\n",
    "\n",
    "    print(f\"Evaluation on {dataset_type} Set:\")\n",
    "    print(classification_report(all_labels, all_preds, target_names=classes))\n",
    "\n",
    "evaluate_model(model, val_loader, \"Validation\")\n",
    "evaluate_model(model, test_loader, \"Test\")"
   ]
  },
  {
   "cell_type": "code",
   "execution_count": 11,
   "metadata": {
    "execution": {
     "iopub.execute_input": "2024-12-21T00:52:36.208816Z",
     "iopub.status.busy": "2024-12-21T00:52:36.208486Z",
     "iopub.status.idle": "2024-12-21T00:52:36.241048Z",
     "shell.execute_reply": "2024-12-21T00:52:36.240202Z",
     "shell.execute_reply.started": "2024-12-21T00:52:36.208778Z"
    }
   },
   "outputs": [
    {
     "name": "stdout",
     "output_type": "stream",
     "text": [
      "Model saved successfully!\n"
     ]
    }
   ],
   "source": [
    "torch.save(model.state_dict(), \"mobilenet_v3_model.pth\")\n",
    "print(\"Model saved successfully!\")"
   ]
  },
  {
   "cell_type": "markdown",
   "metadata": {},
   "source": [
    "# Link to pth file: https://drive.google.com/file/d/1xxoZhQyz3-PaAq2QCL0y2_Cnm5qPRBwF/view?usp=sharing"
   ]
  }
 ],
 "metadata": {
  "kaggle": {
   "accelerator": "nvidiaTeslaT4",
   "dataSources": [
    {
     "datasetId": 6343742,
     "sourceId": 10255210,
     "sourceType": "datasetVersion"
    }
   ],
   "dockerImageVersionId": 30822,
   "isGpuEnabled": true,
   "isInternetEnabled": true,
   "language": "python",
   "sourceType": "notebook"
  },
  "kernelspec": {
   "display_name": "Python 3 (ipykernel)",
   "language": "python",
   "name": "python3"
  },
  "language_info": {
   "codemirror_mode": {
    "name": "ipython",
    "version": 3
   },
   "file_extension": ".py",
   "mimetype": "text/x-python",
   "name": "python",
   "nbconvert_exporter": "python",
   "pygments_lexer": "ipython3",
   "version": "3.8.19"
  }
 },
 "nbformat": 4,
 "nbformat_minor": 4
}
